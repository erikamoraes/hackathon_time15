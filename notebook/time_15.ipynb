{
    "cells": [
        {
            "cell_type": "markdown",
            "metadata": {},
            "source": "## Time 15"
        },
        {
            "cell_type": "code",
            "execution_count": 1,
            "metadata": {},
            "outputs": [
                {
                    "name": "stdout",
                    "output_type": "stream",
                    "text": "Waiting for a Spark session to start...\nSpark Initialization Done! ApplicationId = app-20200803022509-0000\nKERNEL_ID = 5b5be10d-dd1f-4327-832b-a92eda861e71\n"
                }
            ],
            "source": "import pandas as pd\nimport matplotlib.pyplot as plt\nimport numpy as np\nimport seaborn as sns\nsns.set()\nfrom pyspark.sql import Window\nfrom pyspark.sql import functions as F\nfrom pyspark.sql import SparkSession\nspark = SparkSession.builder.getOrCreate()\n\nfrom project_lib import Project\nproject = Project(sc, '0b89d6cb-bbe8-4e28-b211-c123c318d187', 'p-0238cf25b9be2b55b2c1531b8f35d3d44725ed84')\npc = project.project_context\n\n\ncredentials = {\n    'IAM_SERVICE_ID': 'iam-ServiceId-f8644b24-f3a5-402d-ad9c-def58df70dca',\n    'IBM_API_KEY_ID': '0j9-70MzuGCxsqPXVeE2H2F27-L8ptcRo-0oMn4Mr05W',\n    'ENDPOINT': 'https://s3-api.us-geo.objectstorage.service.networklayer.com',\n    'IBM_AUTH_ENDPOINT': 'https://iam.cloud.ibm.com/oidc/token',\n    'BUCKET': 'hackathon-donotdelete-pr-xe1bajv3coopx1',\n    'FILE': 'olist_customers_dataset.csv'\n}\n\nfrom ibm_botocore.client import Config\nimport ibm_boto3\ncos = ibm_boto3.client(service_name='s3',\n    ibm_api_key_id=credentials['IBM_API_KEY_ID'],\n    ibm_service_instance_id=credentials['IAM_SERVICE_ID'],\n    ibm_auth_endpoint=credentials['IBM_AUTH_ENDPOINT'],\n    config=Config(signature_version='oauth'),\n    endpoint_url=credentials['ENDPOINT'])"
        },
        {
            "cell_type": "markdown",
            "metadata": {},
            "source": "## Fun\u00e7\u00f5es "
        },
        {
            "cell_type": "code",
            "execution_count": 2,
            "metadata": {},
            "outputs": [],
            "source": "# verifica colunas nulas\ndef check_null_col(df):\n    qtd_linhas = df.count()\n    colunas = df.columns\n    for c in colunas:\n        desc = df.describe()\n        qtd_linhas_col = int(desc.collect()[0][1])\n        if qtd_linhas > qtd_linhas_col:\n            return c\n\n# verifica linhas duplicadas\ndef check_line_duplic(df):\n    qtd_linhas = df.count()\n    qtd_linhas_distinct = df.distinct().count()\n    if qtd_linhas > qtd_linhas_distinct:\n        return df.dropDuplicates()\n    else:\n        return df"
        },
        {
            "cell_type": "markdown",
            "metadata": {},
            "source": "## Data preparation"
        },
        {
            "cell_type": "code",
            "execution_count": 3,
            "metadata": {},
            "outputs": [],
            "source": "## IMPORTANDO DATASETs\n\n# dataset informacoes vendedor\ncos.download_file(Bucket=credentials['BUCKET'],Key='olist_sellers_dataset.csv',Filename='olist_sellers_dataset.csv')\ndf_vendedor = spark.read.option('header','true').csv('olist_sellers_dataset.csv')\n\n# dataset informacoes geolocalizacao\ncos.download_file(Bucket=credentials['BUCKET'],Key='olist_geolocation_dataset.csv',Filename='olist_geolocation_dataset.csv')\ndf_geolocal = spark.read.option('header','true').csv('olist_geolocation_dataset.csv')\n\n# dataset informacoes item venda\ncos.download_file(Bucket=credentials['BUCKET'],Key='olist_order_items_dataset.csv',Filename='olist_order_items_dataset.csv')\ndf_item_pedido = spark.read.option('header','true').csv('olist_order_items_dataset.csv')\n\n# dataset informacoes pagamento\ncos.download_file(Bucket=credentials['BUCKET'],Key='olist_order_payments_dataset.csv',Filename='olist_order_payments_dataset.csv')\ndf_pagamento = spark.read.option('header','true').csv('olist_order_payments_dataset.csv')\n\n# dataset informacoes item avaliacao\ncos.download_file(Bucket=credentials['BUCKET'],Key='olist_order_reviews_dataset.csv',Filename='olist_order_reviews_dataset.csv')\ndf_avaliacao = spark.read.option('header','true').csv('olist_order_reviews_dataset.csv')\n\n# dataset informacoes pedido\ncos.download_file(Bucket=credentials['BUCKET'],Key='olist_orders_dataset.csv',Filename='olist_orders_dataset.csv')\ndf_pedido = spark.read.option('header','true').csv('olist_orders_dataset.csv')\n\n# dataset informacoes produto\ncos.download_file(Bucket=credentials['BUCKET'],Key='olist_products_dataset.csv',Filename='olist_products_dataset.csv')\ndf_produto = spark.read.option('header','true').csv('olist_products_dataset.csv')\n\n# dataset informacoes cliente\ncos.download_file(Bucket=credentials['BUCKET'],Key='olist_customers_dataset.csv',Filename='olist_customers_dataset.csv')\ndf_cliente = spark.read.option('header','true').csv('olist_customers_dataset.csv')\n\n# dataset informacoes depara nome produto\ncos.download_file(Bucket=credentials['BUCKET'],Key='product_category_name_translation.csv',Filename='product_category_name_translation.csv')\ndf_depara_prod = spark.read.option('header','true').csv('product_category_name_translation.csv')\n"
        },
        {
            "cell_type": "code",
            "execution_count": 4,
            "metadata": {},
            "outputs": [],
            "source": "## VERIFICANDO DUPLICIDADES\n\ndf_vendedor = check_line_duplic(df_vendedor)\ndf_geolocal = check_line_duplic(df_geolocal)\ndf_item_pedido = check_line_duplic(df_item_pedido)\ndf_pagamento = check_line_duplic(df_pagamento)\ndf_avaliacao = check_line_duplic(df_avaliacao)\ndf_pedido = check_line_duplic(df_pedido)\ndf_produto = check_line_duplic(df_produto)\ndf_cliente = check_line_duplic(df_cliente)\ndf_depara_prod = check_line_duplic(df_depara_prod)\n\n"
        },
        {
            "cell_type": "code",
            "execution_count": 5,
            "metadata": {},
            "outputs": [],
            "source": "## VERIFICANDO CAMPOS NULOS\n\n# vendedor\ncheck_null_col(df_vendedor)"
        },
        {
            "cell_type": "code",
            "execution_count": 6,
            "metadata": {},
            "outputs": [],
            "source": "# geolocalizacao\ncheck_null_col(df_geolocal)"
        },
        {
            "cell_type": "code",
            "execution_count": 7,
            "metadata": {},
            "outputs": [],
            "source": "# pedido\ncheck_null_col(df_item_pedido)"
        },
        {
            "cell_type": "code",
            "execution_count": null,
            "metadata": {},
            "outputs": [],
            "source": "# pagamento\ncheck_null_col(df_pagamento)"
        },
        {
            "cell_type": "code",
            "execution_count": null,
            "metadata": {},
            "outputs": [],
            "source": "# avaliacao\ncheck_null_col(df_avaliacao)"
        },
        {
            "cell_type": "code",
            "execution_count": null,
            "metadata": {},
            "outputs": [],
            "source": "df_avaliacao.filter(df_avaliacao.review_id.isNull()).show()"
        },
        {
            "cell_type": "code",
            "execution_count": null,
            "metadata": {},
            "outputs": [],
            "source": "df_avaliacao = df_avaliacao.filter(df_avaliacao.review_id.isNotNull())"
        },
        {
            "cell_type": "code",
            "execution_count": null,
            "metadata": {},
            "outputs": [],
            "source": "# pedido\ncheck_null_col(df_pedido)"
        },
        {
            "cell_type": "code",
            "execution_count": null,
            "metadata": {},
            "outputs": [],
            "source": "# produto\ncheck_null_col(df_produto)"
        },
        {
            "cell_type": "code",
            "execution_count": null,
            "metadata": {},
            "outputs": [],
            "source": "# cliente\ncheck_null_col(df_cliente)"
        },
        {
            "cell_type": "code",
            "execution_count": null,
            "metadata": {},
            "outputs": [],
            "source": "# depara produto\n\ncheck_null_col(df_depara_prod)"
        },
        {
            "cell_type": "code",
            "execution_count": null,
            "metadata": {},
            "outputs": [],
            "source": "## VERIFICANDO TIPOS DE COLUNAS\n\n# vendedor\ndf_vendedor.dtypes"
        },
        {
            "cell_type": "code",
            "execution_count": null,
            "metadata": {},
            "outputs": [],
            "source": "df_vendedor.show()"
        },
        {
            "cell_type": "code",
            "execution_count": null,
            "metadata": {},
            "outputs": [],
            "source": "# geolocalizacao\ndf_geolocal.dtypes"
        },
        {
            "cell_type": "code",
            "execution_count": null,
            "metadata": {},
            "outputs": [],
            "source": "df_geolocal.show()"
        },
        {
            "cell_type": "code",
            "execution_count": null,
            "metadata": {},
            "outputs": [],
            "source": "# pagamento\ndf_pagamento.dtypes"
        },
        {
            "cell_type": "code",
            "execution_count": null,
            "metadata": {},
            "outputs": [],
            "source": "df_pagamento.show()"
        },
        {
            "cell_type": "code",
            "execution_count": null,
            "metadata": {},
            "outputs": [],
            "source": "df_pagamento = df_pagamento.select('order_id','payment_sequential','payment_type',\\\n                      df_pagamento.payment_installments.cast('int'),\\\n                      df_pagamento.payment_value.cast('float')\\\n                     )"
        },
        {
            "cell_type": "code",
            "execution_count": null,
            "metadata": {},
            "outputs": [],
            "source": "# item pedido\ndf_item_pedido.dtypes"
        },
        {
            "cell_type": "code",
            "execution_count": null,
            "metadata": {},
            "outputs": [],
            "source": "df_item_pedido.show()"
        },
        {
            "cell_type": "code",
            "execution_count": null,
            "metadata": {},
            "outputs": [],
            "source": "df_item_pedido = df_item_pedido.select('order_id','order_item_id','product_id','seller_id',\\\n                      df_item_pedido.shipping_limit_date.cast('timestamp'),\\\n                      df_item_pedido.price.cast('float'),\\\n                      df_item_pedido.freight_value.cast('float')\n                     )"
        },
        {
            "cell_type": "code",
            "execution_count": null,
            "metadata": {},
            "outputs": [],
            "source": "# avaliacao\ndf_avaliacao.dtypes"
        },
        {
            "cell_type": "code",
            "execution_count": null,
            "metadata": {},
            "outputs": [],
            "source": "df_avaliacao.show()"
        },
        {
            "cell_type": "code",
            "execution_count": null,
            "metadata": {},
            "outputs": [],
            "source": "df_avaliacao = df_avaliacao.select('review_id','order_id',\\\n                                   df_avaliacao.review_score.cast('int'),\\\n                                   'review_comment_title','review_comment_message',\\\n                                   df_avaliacao.review_creation_date.cast('timestamp'),\\\n                                   df_avaliacao.review_answer_timestamp.cast('timestamp')\n                                  )"
        },
        {
            "cell_type": "code",
            "execution_count": null,
            "metadata": {},
            "outputs": [],
            "source": "# pedido\ndf_pedido.dtypes"
        },
        {
            "cell_type": "code",
            "execution_count": null,
            "metadata": {},
            "outputs": [],
            "source": "df_pedido.show()"
        },
        {
            "cell_type": "code",
            "execution_count": null,
            "metadata": {},
            "outputs": [],
            "source": "df_pedido = df_pedido.select('order_id','customer_id','order_status',\\\n                             df_pedido.order_purchase_timestamp.cast('timestamp'),\\\n                             df_pedido.order_approved_at.cast('timestamp'),\\\n                             df_pedido.order_delivered_carrier_date.cast('timestamp'),\\\n                             df_pedido.order_delivered_customer_date.cast('timestamp'),\\\n                             df_pedido.order_estimated_delivery_date.cast('timestamp')\\\n                            )"
        },
        {
            "cell_type": "code",
            "execution_count": null,
            "metadata": {},
            "outputs": [],
            "source": "# pedido\ndf_produto.dtypes"
        },
        {
            "cell_type": "code",
            "execution_count": null,
            "metadata": {},
            "outputs": [],
            "source": "df_produto.show()"
        },
        {
            "cell_type": "code",
            "execution_count": null,
            "metadata": {},
            "outputs": [],
            "source": "# cliente\ndf_cliente.dtypes"
        },
        {
            "cell_type": "code",
            "execution_count": null,
            "metadata": {},
            "outputs": [],
            "source": "df_cliente.show()"
        },
        {
            "cell_type": "code",
            "execution_count": null,
            "metadata": {},
            "outputs": [],
            "source": "# depara_produto\ndf_depara_prod.dtypes"
        },
        {
            "cell_type": "code",
            "execution_count": null,
            "metadata": {},
            "outputs": [],
            "source": "df_depara_prod.show()"
        },
        {
            "cell_type": "code",
            "execution_count": null,
            "metadata": {},
            "outputs": [],
            "source": "df_depara_prod.show(df_depara_prod.count())"
        },
        {
            "cell_type": "markdown",
            "metadata": {},
            "source": "## Transformacoes"
        },
        {
            "cell_type": "code",
            "execution_count": 9,
            "metadata": {},
            "outputs": [],
            "source": "##  quantidade de vendas por categoria de produtos por estado\ndf_pedido_estado = df_pedido.join(df_cliente, df_pedido.customer_id == df_cliente.customer_id)\\\n.drop(df_cliente.customer_id)\n\ndf_podutos_pedido = df_item_pedido.join(df_produto, df_item_pedido.product_id == df_produto.product_id)\\\n.drop(df_produto.product_id)\\\n.groupBy('order_id','product_category_name').count()\n\ndf_pedido_prod_estado = df_pedido_estado.join(df_podutos_pedido, df_pedido_estado.order_id == df_podutos_pedido.order_id)\\\n.drop(df_podutos_pedido.order_id)\\\n.groupBy('customer_state','product_category_name').sum('count')\\\n.withColumnRenamed('sum(count)','qtd_produto')\n\ndf_qtd_vend_prod_estado = df_pedido_prod_estado.orderBy(df_pedido_prod_estado.customer_state,df_pedido_prod_estado.qtd_produto.desc())\n"
        },
        {
            "cell_type": "markdown",
            "metadata": {},
            "source": "## Transformacoes para MVP Tableau"
        },
        {
            "cell_type": "code",
            "execution_count": null,
            "metadata": {},
            "outputs": [],
            "source": "# join pedido com item pedido\ndf_podutos_pedido_mvp = df_item_pedido.join(df_produto, df_item_pedido.product_id == df_produto.product_id)\\\n.drop(df_produto.product_id)\n\ndf_podutos_pedido_mvp.count()"
        },
        {
            "cell_type": "code",
            "execution_count": null,
            "metadata": {},
            "outputs": [],
            "source": "# filtra somente o segmento da loja mvp\ndf_podutos_pedido_mvp = df_podutos_pedido_mvp.filter((df_podutos_pedido_mvp.product_category_name == 'cama_mesa_banho')\\\n                                                     | (df_podutos_pedido_mvp.product_category_name == 'beleza_saude')\\\n                                                     | (df_podutos_pedido_mvp.product_category_name == 'esporte_lazer')\n                                                    )\ndf_podutos_pedido_mvp.count()"
        },
        {
            "cell_type": "code",
            "execution_count": null,
            "metadata": {},
            "outputs": [],
            "source": "# join com endereco do comprador\ndf_pedido_estado_mvp = df_podutos_pedido_mvp.join(df_pedido_estado, df_podutos_pedido_mvp.order_id == df_pedido_estado.order_id)\\\n.drop(df_pedido_estado.order_id)\n\ndf_pedido_estado_mvp.count()\n\ndf_pedido_estado_mvp.show()"
        },
        {
            "cell_type": "code",
            "execution_count": null,
            "metadata": {},
            "outputs": [],
            "source": "# tatra df geolocal\ndf_geolocal_mvp = df_geolocal.withColumn('rk', F.row_number().over(Window.partitionBy('geolocation_zip_code_prefix')\\\n                                                             .orderBy('geolocation_state')))\ndf_geolocal_mvp = df_geolocal_mvp.filter(df_geolocal_mvp.rk <= 1)"
        },
        {
            "cell_type": "code",
            "execution_count": null,
            "metadata": {},
            "outputs": [],
            "source": "# join com info da geolocalizacao\ndf_pedido_geoloc_mpv = df_pedido_estado_mvp.join(df_geolocal_mvp, df_pedido_estado_mvp.customer_zip_code_prefix == df_geolocal.geolocation_zip_code_prefix)\n\ndf_pedido_geoloc_mpv.count()"
        },
        {
            "cell_type": "code",
            "execution_count": null,
            "metadata": {},
            "outputs": [],
            "source": "pandas_df = df_pedido_geoloc_mpv.toPandas()\nproject.save_data(\"dados_tableau.csv\", pandas_df.to_csv(index=False))"
        },
        {
            "cell_type": "code",
            "execution_count": null,
            "metadata": {},
            "outputs": [],
            "source": "project.save_data(\"dados_tableau.csv\", pandas_df.to_csv(index=False))"
        },
        {
            "cell_type": "markdown",
            "metadata": {},
            "source": "## Analise Exploratoria"
        },
        {
            "cell_type": "code",
            "execution_count": 10,
            "metadata": {},
            "outputs": [
                {
                    "name": "stdout",
                    "output_type": "stream",
                    "text": "+--------------+---------------------+-----------+---+\n|customer_state|product_category_name|qtd_produto| rk|\n+--------------+---------------------+-----------+---+\n|            SC|        esporte_lazer|        363|  1|\n|            SC|     moveis_decoracao|        354|  2|\n|            SC|      cama_mesa_banho|        330|  3|\n|            RO|         beleza_saude|         25|  1|\n|            RO| informatica_acess...|         23|  2|\n|            RO|        esporte_lazer|         20|  3|\n|            PI|         beleza_saude|         54|  1|\n|            PI|   relogios_presentes|         41|  2|\n|            PI|            telefonia|         38|  3|\n|            AM|         beleza_saude|         20|  1|\n|            AM| informatica_acess...|         17|  2|\n|            AM|            telefonia|         15|  3|\n|            RR|        esporte_lazer|          8|  1|\n|            RR|         beleza_saude|          7|  2|\n|            RR|     moveis_decoracao|          6|  3|\n|            GO|      cama_mesa_banho|        235|  1|\n|            GO|         beleza_saude|        229|  2|\n|            GO|        esporte_lazer|        167|  3|\n|            TO|         beleza_saude|         36|  1|\n|            TO|   relogios_presentes|         30|  2|\n+--------------+---------------------+-----------+---+\nonly showing top 20 rows\n\n"
                }
            ],
            "source": "customers = df_cliente.toPandas()\nsellers = df_vendedor.toPandas()\ngeolocation = df_geolocal.toPandas()\norders_items = df_item_pedido.toPandas()\norders = df_pedido.toPandas()\nproducts = df_produto.toPandas()\nreviews = df_avaliacao.toPandas()\npayments = df_pagamento.toPandas()\n#products = products.iloc[:,:2]\n\n# quanditade de vendas por categoria de produtos (top 3) por estado\n\ndf_1 = df_qtd_vend_prod_estado.withColumn('rk', F.row_number().over(Window.partitionBy('customer_state')\\\n                                                             .orderBy(df_qtd_vend_prod_estado.qtd_produto.desc())))\n\ndf_1.filter(df_1.rk <= 3).show()\n"
        },
        {
            "cell_type": "code",
            "execution_count": null,
            "metadata": {},
            "outputs": [],
            "source": "geolocation.head()"
        },
        {
            "cell_type": "code",
            "execution_count": null,
            "metadata": {},
            "outputs": [],
            "source": "customers.head()"
        },
        {
            "cell_type": "code",
            "execution_count": null,
            "metadata": {},
            "outputs": [],
            "source": "sellers.head()"
        },
        {
            "cell_type": "code",
            "execution_count": null,
            "metadata": {},
            "outputs": [],
            "source": "products.head()"
        },
        {
            "cell_type": "code",
            "execution_count": null,
            "metadata": {},
            "outputs": [],
            "source": "orders_items.head()"
        },
        {
            "cell_type": "code",
            "execution_count": null,
            "metadata": {},
            "outputs": [],
            "source": "orders.head()"
        },
        {
            "cell_type": "code",
            "execution_count": null,
            "metadata": {},
            "outputs": [],
            "source": "payments.head()"
        },
        {
            "cell_type": "code",
            "execution_count": null,
            "metadata": {},
            "outputs": [],
            "source": "reviews.head()"
        },
        {
            "cell_type": "code",
            "execution_count": null,
            "metadata": {},
            "outputs": [],
            "source": "df1 = sellers.merge(orders_items, on='seller_id', how='inner')\ndf2 = orders.merge(customers, on='customer_id', how='inner')"
        },
        {
            "cell_type": "code",
            "execution_count": null,
            "metadata": {},
            "outputs": [],
            "source": "df3 = df1.merge(df2, on='order_id', how='inner')\ndf4 = df3.merge(products, on='product_id', how='inner')\ndf5 = payments.merge(reviews, on='order_id', how='inner')"
        },
        {
            "cell_type": "code",
            "execution_count": null,
            "metadata": {},
            "outputs": [],
            "source": "raw_merge = df5.merge(df4, on='order_id', how='inner')"
        },
        {
            "cell_type": "code",
            "execution_count": null,
            "metadata": {},
            "outputs": [],
            "source": "raw_merge"
        },
        {
            "cell_type": "code",
            "execution_count": null,
            "metadata": {},
            "outputs": [],
            "source": "df = raw_merge.copy()\ndf['payment_sequential'] = df['payment_sequential'].astype('str')\ndf['order_item_id'] = df['order_item_id'].astype('str')\ndf['seller_zip_code_prefix'] = df['seller_zip_code_prefix'].astype('str')\ndf['customer_zip_code_prefix'] = df['customer_zip_code_prefix'].astype('str')"
        },
        {
            "cell_type": "code",
            "execution_count": null,
            "metadata": {},
            "outputs": [],
            "source": "df.info()"
        },
        {
            "cell_type": "code",
            "execution_count": null,
            "metadata": {},
            "outputs": [],
            "source": "df.describe()"
        },
        {
            "cell_type": "code",
            "execution_count": null,
            "metadata": {},
            "outputs": [],
            "source": "df['order_purchase_timestamp'] = pd.to_datetime(df['order_purchase_timestamp'], dayfirst=True)\ndf['order_date'] = df['order_purchase_timestamp'].dt.date"
        },
        {
            "cell_type": "code",
            "execution_count": null,
            "metadata": {},
            "outputs": [],
            "source": "df"
        },
        {
            "cell_type": "code",
            "execution_count": null,
            "metadata": {},
            "outputs": [],
            "source": "### Distribui\u00e7\u00e3o de consumo/estado\ndf_consumo_cidade = df.groupby(['customer_city']).sum().reset_index()"
        },
        {
            "cell_type": "code",
            "execution_count": null,
            "metadata": {},
            "outputs": [],
            "source": "df_consumo_cidade.head()"
        },
        {
            "cell_type": "code",
            "execution_count": null,
            "metadata": {},
            "outputs": [],
            "source": "df_consumo_estado_qtd = df.groupby(['customer_state']).count().reset_index()[['customer_state','price']]"
        },
        {
            "cell_type": "code",
            "execution_count": null,
            "metadata": {},
            "outputs": [],
            "source": "df_consumo_estado_qtd"
        },
        {
            "cell_type": "code",
            "execution_count": null,
            "metadata": {},
            "outputs": [],
            "source": "### Categorias mais vendidas por regi\u00e3o\n\ndf_cat_estado = df.groupby(['customer_state','product_category_name','order_date']).count().reset_index()[['order_date','customer_state','product_category_name','price']]\ndf_cat_estado.rename(columns={'price':'quantidade'}, inplace=True)\n#df_cat_estado.set_index('order_date', inplace=True)"
        },
        {
            "cell_type": "code",
            "execution_count": null,
            "metadata": {},
            "outputs": [],
            "source": "df_cat_estado['order_date'] = pd.to_datetime(df_cat_estado['order_date'])"
        },
        {
            "cell_type": "code",
            "execution_count": null,
            "metadata": {},
            "outputs": [],
            "source": "df_cat_sp = df_cat_estado.copy()"
        },
        {
            "cell_type": "code",
            "execution_count": null,
            "metadata": {},
            "outputs": [],
            "source": "df_cat_sp['product_category_name'].unique()"
        },
        {
            "cell_type": "code",
            "execution_count": null,
            "metadata": {},
            "outputs": [],
            "source": "df_pet_sp = df_cat_sp[df_cat_sp['product_category_name'] == 'fashion_roupa_feminina']\nsns.lineplot(x='order_date', y='quantidade', data=df_pet_sp)"
        },
        {
            "cell_type": "code",
            "execution_count": null,
            "metadata": {},
            "outputs": [],
            "source": "df_cat_sp['ds'] = df_cat_sp['order_date']\ndf_cat_sp['y'] = df_cat_sp['quantidade']\n\nfrom fbprophet import Prophet\ngrouped = df_cat_sp.groupby(['customer_state','product_category_name','order_date']).sum()"
        },
        {
            "cell_type": "code",
            "execution_count": null,
            "metadata": {},
            "outputs": [],
            "source": "grouped"
        },
        {
            "cell_type": "code",
            "execution_count": null,
            "metadata": {},
            "outputs": [],
            "source": "df.info()"
        },
        {
            "cell_type": "code",
            "execution_count": null,
            "metadata": {},
            "outputs": [],
            "source": "df_sales = df.copy()"
        },
        {
            "cell_type": "code",
            "execution_count": null,
            "metadata": {},
            "outputs": [],
            "source": "df_sales['order_date'] = df_sales.order_purchase_timestamp.dt.date\nsales_per_purchase_date = df_sales.groupby('order_date', as_index=False).price.sum()"
        },
        {
            "cell_type": "code",
            "execution_count": null,
            "metadata": {},
            "outputs": [],
            "source": "ax = sns.lineplot(x=\"order_date\", y=\"price\", data=sales_per_purchase_date)\nax.set_title('Sales per day')"
        },
        {
            "cell_type": "code",
            "execution_count": null,
            "metadata": {},
            "outputs": [],
            "source": "df_sales['order_purchase_week'] = df_sales.order_purchase_timestamp.dt.to_period('W').astype(str)\nsales_per_purchase_month = df_sales.groupby('order_purchase_week', as_index=False).price.sum()\nax = sns.lineplot(x=\"order_purchase_week\", y=\"price\", data=sales_per_purchase_month)\nax.set_title('Sales per week')"
        },
        {
            "cell_type": "code",
            "execution_count": null,
            "metadata": {},
            "outputs": [],
            "source": "### An\u00e1lise de scores por categorias\nmean_score_cat = df.groupby('product_category_name', as_index=False).agg({'review_score': ['count', 'mean']})\nmean_score_cat.columns = ['product_category_name', 'count', 'mean']\n\nmean_score_cat = mean_score_cat[mean_score_cat['count'] > 50]\nmean_score_cat = mean_score_cat.sort_values(by='mean', ascending=False)\nmean_score_cat.head()"
        },
        {
            "cell_type": "code",
            "execution_count": null,
            "metadata": {},
            "outputs": [],
            "source": "plt.figure(figsize=(10,15))\nax = sns.barplot(x=\"mean\", y=\"product_category_name\", data=mean_score_cat)\nax.set_title('Categories Review Score')"
        },
        {
            "cell_type": "code",
            "execution_count": null,
            "metadata": {},
            "outputs": [],
            "source": "### Categorias mais vendidas\norder_product=pd.merge(orders_items,products,on='product_id',how='left')\norder_product.shape"
        },
        {
            "cell_type": "code",
            "execution_count": null,
            "metadata": {},
            "outputs": [],
            "source": "most_product=order_product.groupby('product_category_name').aggregate({'order_id':'count'}).rename(columns={'order_id':'order_count'}).sort_values(by='order_count',ascending=False).reset_index()\nmost_product.head()"
        },
        {
            "cell_type": "code",
            "execution_count": null,
            "metadata": {},
            "outputs": [],
            "source": "sns.barplot(x='product_category_name',y='order_count',data=most_product[:10],color=\"blue\")\nplt.xlabel(\"Product Category\")\nplt.ylabel(\"Total Number of orders\")\nplt.title(\"Most bought product categories\")\nplt.xticks(rotation='vertical')\nplt.show()"
        },
        {
            "cell_type": "code",
            "execution_count": null,
            "metadata": {},
            "outputs": [],
            "source": "### Produtos mais vendidos\ntotal_orders=pd.merge(orders, orders_items)\nproduct_orders=pd.merge(total_orders,products, on=\"product_id\")\nproduct_orders.info()"
        },
        {
            "cell_type": "code",
            "execution_count": null,
            "metadata": {},
            "outputs": [],
            "source": "### Top 10\n\nproduct_orders['product_id'].value_counts()[:10]"
        },
        {
            "cell_type": "code",
            "execution_count": null,
            "metadata": {},
            "outputs": [],
            "source": "product_orders['product_id_shorten']=product_orders['product_id'].str[-8:]\nplt.figure(figsize=(10,10))\nsns.countplot(x='product_id_shorten', data=product_orders, palette='gist_earth',\n             order=product_orders['product_id_shorten'].value_counts()[:10]\\\n             .sort_values().index).set_title(\"Top 10 Products\", fontsize=15,\n                                             weight='bold')"
        },
        {
            "cell_type": "code",
            "execution_count": null,
            "metadata": {},
            "outputs": [],
            "source": "### Top 10 Vendedores\nseller_products = pd.merge(order_product, sellers, on=\"seller_id\")\nseller_products.info()"
        },
        {
            "cell_type": "code",
            "execution_count": null,
            "metadata": {},
            "outputs": [],
            "source": "seller_products['seller_id_shorten']=seller_products['seller_id'].str[-6:]"
        },
        {
            "cell_type": "code",
            "execution_count": null,
            "metadata": {},
            "outputs": [],
            "source": "plt.figure(figsize=(10,10))\nsns.countplot(x='seller_id_shorten', data=seller_products, palette='gist_earth',\n             order=seller_products['seller_id_shorten'].value_counts()[:10]\\\n             .sort_values().index).set_title(\"Top 10 Sellers\", fontsize=15,\n                                             weight='bold')"
        },
        {
            "cell_type": "code",
            "execution_count": null,
            "metadata": {},
            "outputs": [],
            "source": "### Top 10\n\ntop10_sellers = seller_products['seller_id'].value_counts()[:10].reset_index().rename(columns={'index':'seller'})['seller']"
        },
        {
            "cell_type": "code",
            "execution_count": null,
            "metadata": {},
            "outputs": [],
            "source": "### An\u00e1lise do top seller\ntop10_sellers"
        },
        {
            "cell_type": "code",
            "execution_count": null,
            "metadata": {},
            "outputs": [],
            "source": "\nproduct_orders_s = product_orders[product_orders['seller_id'] == '6560211a19b47992c3666cc44a7e94c0']\nproduct_orders_s['product_id_shorten']=product_orders_s['product_id'].str[-8:]\nplt.figure(figsize=(20,10))\nsns.countplot(x='product_id_shorten', data=product_orders_s, palette='gist_earth',\n            order=product_orders_s['product_id_shorten'].value_counts()[:20]\\\n            .sort_values().index).set_title(\"Top 20 Products of the top seller\", fontsize=15,\n                                            weight='bold')"
        },
        {
            "cell_type": "code",
            "execution_count": null,
            "metadata": {},
            "outputs": [],
            "source": "### Revenue composition of the top seller # 6560211a19b47992c3666cc44a7e94c0\ndf_top_revenue = df[df['seller_id'] == '6560211a19b47992c3666cc44a7e94c0']"
        },
        {
            "cell_type": "code",
            "execution_count": null,
            "metadata": {},
            "outputs": [],
            "source": "total_rev = df_top_revenue['payment_value'].sum()"
        },
        {
            "cell_type": "code",
            "execution_count": null,
            "metadata": {},
            "outputs": [],
            "source": "df_top_revenue['Share'] = (df_top_revenue['payment_value']/total_rev)*100"
        },
        {
            "cell_type": "code",
            "execution_count": null,
            "metadata": {},
            "outputs": [],
            "source": "df_top_revenue.groupby(['product_category_name']).sum()"
        },
        {
            "cell_type": "code",
            "execution_count": null,
            "metadata": {},
            "outputs": [],
            "source": "df_top_revenue.groupby(['customer_id']).sum()"
        },
        {
            "cell_type": "markdown",
            "metadata": {},
            "source": "## Estudos de comportamento de mercado e suas categorias com algoritmos de anomaly detection\n"
        },
        {
            "cell_type": "code",
            "execution_count": null,
            "metadata": {},
            "outputs": [],
            "source": "df_new = df.copy()\nsns.heatmap(df_new.corr())"
        },
        {
            "cell_type": "code",
            "execution_count": null,
            "metadata": {},
            "outputs": [],
            "source": "### Juntando dados de 2018\ndf_new['year_month'] = pd.to_datetime(df_new['order_date'])\ndf_new['year_month'] = df_new['year_month'].dt.to_period('D')"
        },
        {
            "cell_type": "code",
            "execution_count": null,
            "metadata": {},
            "outputs": [],
            "source": "df_sales = df_new.groupby(['year_month']).agg({\n    'review_score': ['mean','median'], 'payment_value':['sum','count'],\n    'price':'sum', 'freight_value':'sum', 'payment_installments': ['mean','median']})\ndf_sales.columns = ['review_score_mean', 'review_score_median', 'payment_value_sum', 'purchases_count', 'price_sum', 'freight_value_sum', 'payment_installments_mean','payment_installments_median']\ndf_sales = df_sales.reset_index()"
        },
        {
            "cell_type": "code",
            "execution_count": null,
            "metadata": {},
            "outputs": [],
            "source": "df_sales['year_month'] = df_sales['year_month'].astype('str')\ndf_sales['year_month'] = pd.to_datetime(df_sales['year_month'])\ndf_sales = df_sales[(df_sales['year_month'] > '2017-01-01') & (df_sales['year_month'] < '2018-01-01')]"
        },
        {
            "cell_type": "code",
            "execution_count": null,
            "metadata": {},
            "outputs": [],
            "source": "df_rev = df_sales[['year_month','payment_value_sum']]\ndf_rev.set_index('year_month', inplace=True)\n\ndf_qtd = df_sales[['year_month','purchases_count']]\ndf_qtd.set_index('year_month', inplace=True)"
        },
        {
            "cell_type": "code",
            "execution_count": null,
            "metadata": {},
            "outputs": [],
            "source": "from adtk.data import validate_series\nfrom adtk.visualization import plot"
        },
        {
            "cell_type": "code",
            "execution_count": null,
            "metadata": {},
            "outputs": [],
            "source": "### An\u00e1lise de detec\u00e7\u00e3o de anomalias/mudan\u00e7as de padr\u00f5es de mercado\nfrom adtk.detector import PersistAD\ns = validate_series(df_rev)\npersist_ad = PersistAD(c=1.0, side='positive')\nanomalies = persist_ad.fit_detect(s)\nplot(s, anomaly=anomalies, ts_linewidth=1, ts_markersize=3, anomaly_color='red');"
        },
        {
            "cell_type": "code",
            "execution_count": null,
            "metadata": {},
            "outputs": [],
            "source": "from adtk.detector import PersistAD\ns = validate_series(df_qtd)\npersist_ad = PersistAD(c=1.0, side='positive')\nanomalies = persist_ad.fit_detect(s)\nplot(s, anomaly=anomalies, ts_linewidth=1, ts_markersize=3, anomaly_color='red');"
        },
        {
            "cell_type": "code",
            "execution_count": null,
            "metadata": {},
            "outputs": [],
            "source": "### Volatility Shift\nfrom adtk.detector import VolatilityShiftAD\ns = validate_series(df_rev)\nvolatility_shift_ad = VolatilityShiftAD(c=3.0, side='positive', window=10)\nanomalies = volatility_shift_ad.fit_detect(s)\nplot(s, anomaly=anomalies, anomaly_color='red');"
        },
        {
            "cell_type": "code",
            "execution_count": null,
            "metadata": {},
            "outputs": [],
            "source": "from adtk.detector import VolatilityShiftAD\ns = validate_series(df_qtd)\nvolatility_shift_ad = VolatilityShiftAD(c=3.0, side='positive', window=10)\nanomalies = volatility_shift_ad.fit_detect(s)\nplot(s, anomaly=anomalies, anomaly_color='red');"
        },
        {
            "cell_type": "code",
            "execution_count": null,
            "metadata": {},
            "outputs": [],
            "source": "from adtk.detector import SeasonalAD\ns = validate_series(df_rev)\nseasonal_ad = SeasonalAD(c=1.0, side=\"both\")\nanomalies = seasonal_ad.fit_detect(s)\nplot(s, anomaly=anomalies, ts_markersize=1, anomaly_color='red', anomaly_tag=\"marker\", anomaly_markersize=2);"
        },
        {
            "cell_type": "code",
            "execution_count": null,
            "metadata": {},
            "outputs": [],
            "source": "from adtk.detector import SeasonalAD\ns = validate_series(df_qtd)\nseasonal_ad = SeasonalAD(c=1.0, side=\"both\")\nanomalies = seasonal_ad.fit_detect(s)\nplot(s, anomaly=anomalies, ts_markersize=1, anomaly_color='red', anomaly_tag=\"marker\", anomaly_markersize=2);"
        },
        {
            "cell_type": "code",
            "execution_count": null,
            "metadata": {},
            "outputs": [],
            "source": "### Segmentando an\u00e1lise dos principais produtos entre si\ndf_p1_2018 = df_new.copy()\ntop_cats = df_p1_2018.groupby(['product_category_name']).sum().reset_index().sort_values(by='payment_value', ascending=False)[['product_category_name']][:10]"
        },
        {
            "cell_type": "code",
            "execution_count": null,
            "metadata": {},
            "outputs": [],
            "source": "top_cats"
        },
        {
            "cell_type": "code",
            "execution_count": null,
            "metadata": {},
            "outputs": [],
            "source": "### An\u00e1lise de anomalias entre categorias \"cama_mesa_banho\" e \"informatica_acessorios\" no segundo semestre de 2017\ndef get_cat(cat):\n  df_cat = df_new[df_new['product_category_name'] == str(cat)]\n  d = df_cat.groupby(['year_month']).agg({\n      'review_score': ['mean','median'], 'payment_value':['sum','count'],\n      'price':'sum', 'freight_value':'sum', 'payment_installments': ['mean','median']})\n  d.columns = ['review_score_mean', 'review_score_median', 'payment_value_sum', 'purchases_count', 'price_sum', 'freight_value_sum', 'payment_installments_mean','payment_installments_median']\n  d = d.reset_index()\n\n  d['year_month'] = d['year_month'].astype('str')\n  d['year_month'] = pd.to_datetime(d['year_month'])\n  d = d[(d['year_month'] > '2017-06-01') & (d['year_month'] < '2018-01-01')]\n\n  df_rev = d[['year_month','payment_value_sum']]\n  df_rev.set_index('year_month', inplace=True)\n\n  df_qtd = d[['year_month','purchases_count']]\n  df_qtd.set_index('year_month', inplace=True)\n\n  return df_rev, df_qtd"
        },
        {
            "cell_type": "code",
            "execution_count": null,
            "metadata": {},
            "outputs": [],
            "source": "rev_cmb, qtd_cmb = get_cat('cama_mesa_banho')\nrev_inf, qtd_inf = get_cat('informatica_acessorios') \nrev_rep, qtd_rep = get_cat('relogios_presentes')"
        },
        {
            "cell_type": "code",
            "execution_count": null,
            "metadata": {},
            "outputs": [],
            "source": "### Persist AD\n\ns = validate_series(rev_cmb)\npersist_ad = PersistAD(c=1.0, side='positive')\nanomalies = persist_ad.fit_detect(s)\nplot(s, anomaly=anomalies, ts_linewidth=1, ts_markersize=3, anomaly_color='red');\nplt.title('Cama Mesa Banho')\n\ns = validate_series(rev_inf)\npersist_ad = PersistAD(c=1.0, side='positive')\nanomalies = persist_ad.fit_detect(s)\nplot(s, anomaly=anomalies, ts_linewidth=1, ts_markersize=3, anomaly_color='red');\nplt.title('Informatica e Acessorios')\n\ns = validate_series(rev_rep)\npersist_ad = PersistAD(c=1.0, side='positive')\nanomalies = persist_ad.fit_detect(s)\nplot(s, anomaly=anomalies, ts_linewidth=1, ts_markersize=3, anomaly_color='red');\nplt.title('Relogios e Presentes')"
        },
        {
            "cell_type": "code",
            "execution_count": null,
            "metadata": {},
            "outputs": [],
            "source": "### Level Shift AD\nfrom adtk.detector import LevelShiftAD\n\ns = validate_series(rev_cmb)\nlevel_shift_ad = LevelShiftAD(c=6.0, side='both', window=5)\nanomalies = level_shift_ad.fit_detect(s)\nplot(s, anomaly=anomalies, anomaly_color='red');\nplt.title('Cama Mesa Banho')\n\ns = validate_series(rev_inf)\nlevel_shift_ad = LevelShiftAD(c=6.0, side='both', window=5)\nanomalies = level_shift_ad.fit_detect(s)\nplot(s, anomaly=anomalies, anomaly_color='red');\nplt.title('Informatica e Acessorios')\n\ns = validate_series(rev_rep)\nlevel_shift_ad = LevelShiftAD(c=6.0, side='both', window=5)\nanomalies = level_shift_ad.fit_detect(s)\nplot(s, anomaly=anomalies, anomaly_color='red');\nplt.title('Relogio e Presentes')"
        },
        {
            "cell_type": "code",
            "execution_count": null,
            "metadata": {},
            "outputs": [],
            "source": "from adtk.detector import VolatilityShiftAD\n\ns = validate_series(rev_cmb)\nvolatility_shift_ad = VolatilityShiftAD(c=6.0, side='both', window=5)\nanomalies = volatility_shift_ad.fit_detect(s)\nplot(s, anomaly=anomalies, anomaly_color='red');\nplt.title('Cama Mesa Banho')\n\ns = validate_series(rev_inf)\nvolatility_shift_ad = VolatilityShiftAD(c=6.0, side='both', window=5)\nanomalies = volatility_shift_ad.fit_detect(s)\nplot(s, anomaly=anomalies, anomaly_color='red');\nplt.title('Informatica e Acessorios')\n\ns = validate_series(rev_rep)\nvolatility_shift_ad = VolatilityShiftAD(c=6.0, side='both', window=5)\nanomalies = volatility_shift_ad.fit_detect(s)\nplot(s, anomaly=anomalies, anomaly_color='red');\nplt.title('Relogio e Presentes')"
        }
    ],
    "metadata": {
        "kernelspec": {
            "display_name": "Python 3.6 with Spark",
            "language": "python3",
            "name": "python36"
        },
        "language_info": {
            "codemirror_mode": {
                "name": "ipython",
                "version": 3
            },
            "file_extension": ".py",
            "mimetype": "text/x-python",
            "name": "python",
            "nbconvert_exporter": "python",
            "pygments_lexer": "ipython3",
            "version": "3.6.8"
        }
    },
    "nbformat": 4,
    "nbformat_minor": 1
}